{
 "cells": [
  {
   "cell_type": "markdown",
   "metadata": {},
   "source": [
    "# ETF收益率预测系统演示\n",
    "\n",
    "本笔记本将完整运行ETF预测系统，包含以下步骤：\n",
    "1. 环境设置与依赖安装\n",
    "2. 数据加载与预处理\n",
    "3. 模型训练与参数调优\n",
    "4. 回测评估\n",
    "5. 可视化结果\n",
    "6. 选基策略执行"
   ]
  },
  {
   "cell_type": "markdown",
   "metadata": {},
   "source": [
    "## 1. 环境设置"
   ]
  },
  {
   "cell_type": "code",
   "execution_count": null,
   "metadata": {},
   "outputs": [],
   "source": [
    "import os\n",
    "import sys\n",
    "import shutil\n",
    "from pathlib import Path\n",
    "\n",
    "# 设置项目根目录\n",
    "project_root = Path.cwd()\n",
    "print(f\"项目根目录: {project_root}\")\n",
    "\n",
    "# 创建必要的目录结构\n",
    "os.makedirs('data', exist_ok=True)\n",
    "os.makedirs('outputs/results', exist_ok=True)\n",
    "os.makedirs('outputs/models', exist_ok=True)\n",
    "\n",
    "# 将项目目录添加到Python路径\n",
    "if str(project_root) not in sys.path:\n",
    "    sys.path.append(str(project_root))"
   ]
  },
  {
   "cell_type": "markdown",
   "metadata": {},
   "source": [
    "## 2. 安装依赖\n",
    "\n",
    "运行前请确保已上传`requirements.txt`文件"
   ]
  },
  {
   "cell_type": "code",
   "execution_count": null,
   "metadata": {},
   "outputs": [],
   "source": [
    "!pip install -r requirements.txt"
   ]
  },
  {
   "cell_type": "markdown",
   "metadata": {},
   "source": [
    "## 3. 数据检查\n",
    "\n",
    "请确保已上传以下文件到`data/`目录：\n",
    "- factor_daily.csv\n",
    "- return_monthly.csv"
   ]
  },
  {
   "cell_type": "code",
   "execution_count": null,
   "metadata": {},
   "outputs": [],
   "source": [
    "from utils.data_loader import DataLoader\n",
    "\n",
    "# 初始化数据加载器\n",
    "data_loader = DataLoader(\n",
    "    factor_path='data/factor_daily.csv',\n",
    "    return_path='data/return_monthly.csv'\n",
    ")\n",
    "\n",
    "# 加载并检查数据\n",
    "try:\n",
    "    full_data = data_loader.load_and_merge_data()\n",
    "    train_data, predict_data = data_loader.split_train_predict_data(full_data)\n",
    "    \n",
    "    print(\"数据加载成功！\")\n",
    "    print(f\"训练数据形状: {train_data.shape}\")\n",
    "    print(f\"预测数据形状: {predict_data.shape}\")\n",
    "    print(\"\\n训练数据预览:\")\n",
    "    display(train_data.head())\n",
    "except Exception as e:\n",
    "    print(f\"数据加载失败: {str(e)}\")\n",
    "    print(\"请检查data/目录下是否有正确的CSV文件\")"
   ]
  },
  {
   "cell_type": "markdown",
   "metadata": {},
   "source": [
    "## 4. 系统配置\n",
    "\n",
    "从config.py导入默认配置"
   ]
  },
  {
   "cell_type": "code",
   "execution_count": null,
   "metadata": {},
   "outputs": [],
   "source": [
    "from config import PARAM_GRIDS, TRAIN_WINDOWS\n",
    "\n",
    "# 显示可用模型\n",
    "print(\"可用模型:\", list(PARAM_GRIDS.keys()))\n",
    "print(\"训练窗口设置:\", TRAIN_WINDOWS)\n",
    "\n",
    "# 选择要运行的模型（默认全选）\n",
    "MODELS_TO_RUN = list(PARAM_GRIDS.keys())"
   ]
  },
  {
   "cell_type": "markdown",
   "metadata": {},
   "source": [
    "## 5. 模型训练与评估"
   ]
  },
  {
   "cell_type": "code",
   "execution_count": null,
   "metadata": {},
   "outputs": [],
   "source": [
    "from core.model import (\n",
    "    XGBoostModel, RandomForestModel, \n",
    "    LassoModel, LSTMModel\n",
    ")\n",
    "from core.trainer import ModelTrainer\n",
    "from core.evaluator import ModelEvaluator\n",
    "from core.selector import ETFSelector\n",
    "from utils.visualize import ResultVisualizer\n",
    "import pandas as pd\n",
    "import numpy as np\n",
    "\n",
    "# 初始化组件\n",
    "evaluator = ModelEvaluator()\n",
    "selector = ETFSelector(top_n=10)\n",
    "visualizer = ResultVisualizer()\n",
    "\n",
    "# 模型映射字典\n",
    "MODEL_CLASSES = {\n",
    "    'xgboost': XGBoostModel,\n",
    "    'random_forest': RandomForestModel,\n",
    "    'lasso': LassoModel,\n",
    "    'lstm': LSTMModel\n",
    "}\n",
    "\n",
    "# 存储所有结果\n",
    "all_results = []\n",
    "\n",
    "for model_name in MODELS_TO_RUN:\n",
    "    print(f\"\\n===== 开始处理 {model_name} 模型 =====\")\n",
    "    \n",
    "    # 初始化模型\n",
    "    model = MODEL_CLASSES[model_name]()\n",
    "    \n",
    "    # 获取特征列\n",
    "    features = [col for col in train_data.columns \n",
    "                if col not in ['datetime', 'sec_code', 'target']]\n",
    "    \n",
    "    # 参数调优\n",
    "    trainer = ModelTrainer(model, PARAM_GRIDS[model_name])\n",
    "    best_model, best_params = trainer.tune_hyperparameters(\n",
    "        train_data[features], train_data['target']\n",
    "    )\n",
    "    print(f\"最佳参数: {best_params}\")\n",
    "    \n",
    "    # 测试不同训练窗口\n",
    "    for window in TRAIN_WINDOWS:\n",
    "        print(f\"\\n-- 测试 {window} 个月训练窗口 --\")\n",
    "        \n",
    "        # 滚动窗口训练\n",
    "        final_model, test_results = trainer.train_with_rolling_window(data_loader, window)\n",
    "        \n",
    "        # 评估\n",
    "        metrics = evaluator.calculate_metrics(\n",
    "            test_results['target'], \n",
    "            test_results['pred'],\n",
    "            test_results\n",
    "        )\n",
    "        print(evaluator.generate_report(metrics, model_name, window))\n",
    "        \n",
    "        # 存储结果\n",
    "        all_results.append({\n",
    "            'model': model_name,\n",
    "            'window': window,\n",
    "            **metrics\n",
    "        })\n",
    "        \n",
    "        # 可视化\n",
    "        visualizer.plot_pred_vs_real(\n",
    "            test_results, model_name, window,\n",
    "            f\"outputs/results/pred_vs_real_{model_name}_{window}.png\"\n",
    "        )\n",
    "        visualizer.plot_cs_ic_series(\n",
    "            test_results, model_name, window,\n",
    "            f\"outputs/results/cs_ic_{model_name}_{window}.png\"\n",
    "        )\n",
    "        \n",
    "        # 最终预测\n",
    "        X_predict = predict_data[features]\n",
    "        X_processed = model.preprocess_data(X_predict)\n",
    "        \n",
    "        final_predictions = final_model.predict(X_processed)\n",
    "        if isinstance(final_predictions, np.ndarray) and final_predictions.ndim > 1:\n",
    "            final_predictions = final_predictions.flatten()\n",
    "        \n",
    "        predict_data['pred'] = final_predictions\n",
    "        top_etfs = selector.select_top_etfs(predict_data)\n",
    "        selector.save_selection(\n",
    "            top_etfs,\n",
    "            f\"outputs/results/top_etfs_{model_name}_{window}.csv\"\n",
    "        )\n",
    "        \n",
    "        print(f\"\\nTop 10 ETF预览:\")\n",
    "        display(top_etfs.head())"
   ]
  },
  {
   "cell_type": "markdown",
   "metadata": {},
   "source": [
    "## 6. 结果汇总"
   ]
  },
  {
   "cell_type": "code",
   "execution_count": null,
   "metadata": {},
   "outputs": [],
   "source": [
    "# 将所有结果保存为CSV\n",
    "results_df = pd.DataFrame(all_results)\n",
    "results_df.to_csv(\"outputs/results/all_results.csv\", index=False)\n",
    "\n",
    "print(\"\\n===== 所有模型评估结果汇总 =====\")\n",
    "display(results_df)\n",
    "\n",
    "# 找出每个模型的最佳配置\n",
    "best_configs = []\n",
    "for model_name in MODELS_TO_RUN:\n",
    "    model_results = results_df[results_df['model'] == model_name]\n",
    "    if not model_results.empty:\n",
    "        # 优先按CS-IC排序，其次按R2\n",
    "        best_idx = model_results['CS-IC'].fillna(-np.inf).idxmax()\n",
    "        if np.isinf(model_results.loc[best_idx, 'CS-IC']):\n",
    "            best_idx = model_results['R2'].idxmax()\n",
    "        best_configs.append(model_results.loc[best_idx])\n",
    "\n",
    "if best_configs:\n",
    "    print(\"\\n===== 最佳配置推荐 =====\")\n",
    "    best_df = pd.DataFrame(best_configs)\n",
    "    display(best_df)\n",
    "else:\n",
    "    print(\"没有找到有效的配置结果\")"
   ]
  },
  {
   "cell_type": "markdown",
   "metadata": {},
   "source": [
    "## 7. 结果可视化"
   ]
  },
  {
   "cell_type": "code",
   "execution_count": null,
   "metadata": {},
   "outputs": [],
   "source": [
    "import matplotlib.pyplot as plt\n",
    "from IPython.display import Image, display\n",
    "\n",
    "def show_results_for_model(model_name, window):\n",
    "    \"\"\"显示指定模型的结果图表\"\"\"\n",
    "    pred_img = f\"outputs/results/pred_vs_real_{model_name}_{window}.png\"\n",
    "    ic_img = f\"outputs/results/cs_ic_{model_name}_{window}.png\"\n",
    "    \n",
    "    if os.path.exists(pred_img):\n",
    "        print(f\"\\n{model_name} ({window}个月窗口) - 预测vs真实值\")\n",
    "        display(Image(filename=pred_img))\n",
    "    \n",
    "    if os.path.exists(ic_img):\n",
    "        print(f\"\\n{model_name} ({window}个月窗口) - IC时间序列\")\n",
    "        display(Image(filename=ic_img))\n",
    "\n",
    "# 显示第一个模型的结果作为示例\n",
    "if all_results:\n",
    "    first_result = all_results[0]\n",
    "    show_results_for_model(first_result['model'], first_result['window'])"
   ]
  },
  {
   "cell_type": "markdown",
   "metadata": {},
   "source": [
    "## 8. 输出文件说明\n",
    "\n",
    "运行完成后，将在`outputs/`目录生成以下文件：\n",
    "\n",
    "```\n",
    "outputs/\n",
    "├── results/\n",
    "│   ├── all_results.csv       # 所有模型评估结果汇总\n",
    "│   ├── pred_vs_real_*.png    # 预测与真实值对比图\n",
    "│   ├── cs_ic_*.png           # IC时间序列图\n",
    "│   └── top_etfs_*.csv        # 选中的ETF列表\n",
    "└── models/                   # 保存的模型文件（可选）\n",
    "```"
   ]
  }
 ],
 "metadata": {
  "kernelspec": {
   "display_name": "Python 3",
   "language": "python",
   "name": "python3"
  },
  "language_info": {
   "codemirror_mode": {
    "name": "ipython",
    "version": 3
   },
   "file_extension": ".py",
   "mimetype": "text/x-python",
   "name": "python",
   "nbconvert_exporter": "python",
   "pygments_lexer": "ipython3",
   "version": "3.8.5"
  }
 },
 "nbformat": 4,
 "nbformat_minor": 4
}
